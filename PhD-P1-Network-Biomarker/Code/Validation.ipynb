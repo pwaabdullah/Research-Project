{
 "cells": [
  {
   "cell_type": "code",
   "execution_count": 11,
   "metadata": {},
   "outputs": [
    {
     "name": "stdout",
     "output_type": "stream",
     "text": [
      "unique_gene_20_brca:  26\n"
     ]
    }
   ],
   "source": [
    "#Programmer: Abdullah Al Mamun\n",
    "#script for finding common Gene (one to one)\n",
    "\n",
    "import pandas as pd\n",
    "\n",
    "cancerDB = 'unique_gene_20'\n",
    "df2 = pd.read_csv('unique_gene_20.csv', header=0)\n",
    "a2 = df2.brca\n",
    "c = 'COADREAD' \n",
    "t = '100'\n",
    "\n",
    "\n",
    "def saveToCSV(dataList,m1,m2):      \n",
    "    df4 = pd.DataFrame(dataList, columns=[\"Name\"])\n",
    "#     df4.to_csv(m2+'_'+m1+'.txt', header=None, index=None, sep=' ', mode='a')\n",
    "    df4.to_csv(m2+'_'+m1+'.csv', sep=',', encoding='utf-8',index=False, header=False)\n",
    "#     df4.to_csv('max_Clique/tumor_portal_coadread.csv', sep='\\t', encoding='utf-8',index=False, header=False)\n",
    "#     print(\"File has been written!\")\n",
    "\n",
    "def CompareTwo(a,b,m1,m2):\n",
    "    count=0; result=[]\n",
    "    for i in a:\n",
    "        for j in b:\n",
    "            if i == j:\n",
    "                result.append(j)\n",
    "                break\n",
    "    print(m2+'_'+m1+': ', len(result))\n",
    "    if len(result)>0:\n",
    "        result.sort()\n",
    "        saveToCSV(result,m1,m2)\n",
    "\n",
    "    \n",
    "if __name__ == '__main__':\n",
    "    method = ['Betweenness','BottleNeck','CC','Closeness','Degree','DMNC','EcC','EPC','MCC','MNC','Radiality','Stress']\n",
    "#     for i in method:\n",
    "    df1 = pd.read_csv('max_clique_all.csv')\n",
    "    a1 = df1.brca;\n",
    "    CompareTwo(a1,a2,'brca', cancerDB)"
   ]
  },
  {
   "cell_type": "code",
   "execution_count": null,
   "metadata": {},
   "outputs": [],
   "source": []
  }
 ],
 "metadata": {
  "kernelspec": {
   "display_name": "py36-test",
   "language": "python",
   "name": "py36-test"
  },
  "language_info": {
   "codemirror_mode": {
    "name": "ipython",
    "version": 3
   },
   "file_extension": ".py",
   "mimetype": "text/x-python",
   "name": "python",
   "nbconvert_exporter": "python",
   "pygments_lexer": "ipython3",
   "version": "3.6.3"
  }
 },
 "nbformat": 4,
 "nbformat_minor": 2
}
