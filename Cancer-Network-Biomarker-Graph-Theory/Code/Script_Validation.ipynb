{
 "cells": [
  {
   "cell_type": "code",
   "execution_count": 41,
   "metadata": {},
   "outputs": [],
   "source": [
    "#Programmer: Abdullah Al Mamun\n",
    "#script for finding common miRNA\n",
    "\n",
    "import pandas as pd\n",
    "\n",
    "# BRCA, COADREAD, GBM\n",
    "\n",
    "c = 'GBM' \n",
    "t = '100'\n",
    "\n",
    "def saveToCSV(dataList,m1,m2):      \n",
    "    df4 = pd.DataFrame(dataList, columns=[\"Name\"])\n",
    "    df4.to_csv(c+'_P90_top'+t+'/'+m1+'_'+m2+'.csv', sep='\\t', encoding='utf-8',index=False, header=False)\n",
    "#     print(\"File has been written!\")\n",
    "\n",
    "def CompareTwo(a,b,m1,m2):\n",
    "    count=0; result=[]\n",
    "    for i in a:\n",
    "        for j in b:\n",
    "            if i == j:\n",
    "                result.append(j)\n",
    "                break\n",
    "#     print(m1+'_'+m2+': ', len(result))\n",
    "    saveToCSV(result,m1,m2)\n",
    "\n",
    "    \n",
    "if __name__ == '__main__':\n",
    "    method = ['Betweenness','BottleNeck','CC','Closeness','Degree','DMNC','EcC','EPC','MCC','MNC','Radiality','Stress']\n",
    "    for i in method:\n",
    "        for j in range(method.index(i)+1, 12):\n",
    "            df1 = pd.read_csv(c+'_P90_top'+t+'/'+c+'_P90_'+i+'_top'+t+'.csv', header=1)\n",
    "            df2 = pd.read_csv(c+'_P90_top'+t+'/'+c+'_P90_'+method[j]+'_top'+t+'.csv', header=1)\n",
    "            a1 = df1.Name; a2 = df2.Name;\n",
    "            CompareTwo(a1,a2,i,method[j])"
   ]
  },
  {
   "cell_type": "code",
   "execution_count": 87,
   "metadata": {},
   "outputs": [
    {
     "name": "stdout",
     "output_type": "stream",
     "text": [
      "DEGs_Betweenness:  14\n",
      "DEGs_BottleNeck:  14\n",
      "DEGs_CC:  6\n",
      "DEGs_Closeness:  10\n",
      "DEGs_Degree:  7\n",
      "DEGs_DMNC:  1\n",
      "DEGs_EcC:  1\n",
      "DEGs_EPC:  8\n",
      "DEGs_MCC:  5\n",
      "DEGs_MNC:  6\n",
      "DEGs_Radiality:  12\n",
      "DEGs_Stress:  18\n"
     ]
    }
   ],
   "source": [
    "#Programmer: Abdullah Al Mamun\n",
    "#script for finding common Gene (many to one)\n",
    "\n",
    "import pandas as pd\n",
    "\n",
    "cancerDB = 'DEGs'\n",
    "df2 = pd.read_csv('COADREAD_DEGs_all.txt', header=0)\n",
    "a2 = df2.gene;\n",
    "c = 'COADREAD' \n",
    "t = '100'\n",
    "\n",
    "\n",
    "def saveToCSV(dataList,m1,m2):      \n",
    "    df4 = pd.DataFrame(dataList, columns=[\"Name\"])\n",
    "    df4.to_csv(c+'_P90_top'+t+'/'+m2+'_'+m1+'.csv', sep='\\t', encoding='utf-8',index=False, header=False)\n",
    "#     print(\"File has been written!\")\n",
    "\n",
    "def CompareTwo(a,b,m1,m2):\n",
    "    count=0; result=[]\n",
    "    for i in a:\n",
    "        for j in b:\n",
    "            if i == j:\n",
    "                result.append(j)\n",
    "                break\n",
    "    print(m2+'_'+m1+': ', len(result))\n",
    "    if len(result)>0: \n",
    "        saveToCSV(result,m1,m2)\n",
    "\n",
    "    \n",
    "if __name__ == '__main__':\n",
    "    method = ['Betweenness','BottleNeck','CC','Closeness','Degree','DMNC','EcC','EPC','MCC','MNC','Radiality','Stress']\n",
    "    for i in method:\n",
    "        df1 = pd.read_csv(c+'_P90_top'+t+'/'+c+'_P90_'+i+'_top'+t+'.csv', header=1)\n",
    "        a1 = df1.Name;\n",
    "        CompareTwo(a1,a2,i,cancerDB)"
   ]
  },
  {
   "cell_type": "code",
   "execution_count": 62,
   "metadata": {},
   "outputs": [
    {
     "name": "stdout",
     "output_type": "stream",
     "text": [
      "unique_gene_100_brca:  47\n"
     ]
    }
   ],
   "source": [
    "#Programmer: Abdullah Al Mamun\n",
    "#script for finding common Gene (one to one)\n",
    "\n",
    "import pandas as pd\n",
    "\n",
    "cancerDB = 'unique_gene_100'\n",
    "df2 = pd.read_csv('unique_gene_100.csv', header=0)\n",
    "a2 = df2.COAD\n",
    "c = 'COADREAD' \n",
    "t = '100'\n",
    "\n",
    "\n",
    "def saveToCSV(dataList,m1,m2):      \n",
    "    df4 = pd.DataFrame(dataList, columns=[\"Name\"])\n",
    "    df4.to_csv('max_Clique/'+m2+'_'+m1+'.csv', sep='\\t', encoding='utf-8',index=False, header=False)\n",
    "#     df4.to_csv('max_Clique/tumor_portal_coadread.csv', sep='\\t', encoding='utf-8',index=False, header=False)\n",
    "#     print(\"File has been written!\")\n",
    "\n",
    "def CompareTwo(a,b,m1,m2):\n",
    "    count=0; result=[]\n",
    "    for i in a:\n",
    "        for j in b:\n",
    "            if i == j:\n",
    "                result.append(j)\n",
    "                break\n",
    "    print(m2+'_'+m1+': ', len(result))\n",
    "    if len(result)>0:\n",
    "        result.sort()\n",
    "        saveToCSV(result,m1,m2)\n",
    "\n",
    "    \n",
    "if __name__ == '__main__':\n",
    "    method = ['Betweenness','BottleNeck','CC','Closeness','Degree','DMNC','EcC','EPC','MCC','MNC','Radiality','Stress']\n",
    "#     for i in method:\n",
    "    df1 = pd.read_csv('max_Clique/3clique_2Bip.csv')\n",
    "    a1 = df1.COAD;\n",
    "    CompareTwo(a1,a2,'brca', cancerDB)"
   ]
  },
  {
   "cell_type": "code",
   "execution_count": 52,
   "metadata": {
    "scrolled": true
   },
   "outputs": [
    {
     "name": "stdout",
     "output_type": "stream",
     "text": [
      "{'IKZF1', 'WAS', 'PTPRC'}\n"
     ]
    }
   ],
   "source": [
    "#compare among top 100\n",
    "\n",
    "import pandas as pd\n",
    "df1 = pd.read_csv('BRCA_P90_top100/MoA_Betweenness.csv', header=0)\n",
    "df2 = pd.read_csv('BRCA_P90_top100/MoA_BottleNeck.csv', header=0)\n",
    "df3 = pd.read_csv('BRCA_P90_top100/MoA_CC.csv', header=0)\n",
    "df4 = pd.read_csv('BRCA_P90_top100/MoA_Closeness.csv', header=0)\n",
    "df5 = pd.read_csv('BRCA_P90_top100/MoA_Degree.csv', header=0)\n",
    "df6 = pd.read_csv('BRCA_P90_top100/MoA_DMNC.csv', header=0)\n",
    "df7 = pd.read_csv('BRCA_P90_top100/MoA_EcC.csv', header=0)\n",
    "df8 = pd.read_csv('BRCA_P90_top100/MoA_EPC.csv', header=0)\n",
    "df9 = pd.read_csv('BRCA_P90_top100/MoA_MCC.csv', header=0)\n",
    "df10 = pd.read_csv('BRCA_P90_top100/MoA_MNC.csv', header=0)\n",
    "df11 = pd.read_csv('BRCA_P90_top100/MoA_Radiality.csv', header=0)\n",
    "df12 = pd.read_csv('BRCA_P90_top100/MoA_Stress.csv', header=0)\n",
    "\n",
    "# &set(df3.Name)&set(df4.Name)&set(df5.Name)&set(df6.Name)&set(df7.Name)&set(df8.Name)&set(df9.Name)&set(df10.Name)&set(df11.Name)&set(df12.Name)\n",
    "print(set(df1.Name)&set(df2.Name)&set(df4.Name)&set(df5.Name)&set(df7.Name)&set(df8.Name)&set(df9.Name)&set(df10.Name)&set(df11.Name)&set(df12.Name))"
   ]
  },
  {
   "cell_type": "code",
   "execution_count": 55,
   "metadata": {},
   "outputs": [
    {
     "name": "stdout",
     "output_type": "stream",
     "text": [
      "         BRCA       COAD       GBM\n",
      "0       ACAP1   ARHGAP30     ARL11\n",
      "1        CCL5    ARHGAP9      C1QA\n",
      "2         CD2        BTK      C1QB\n",
      "3       CD247      C3AR1      C1QC\n",
      "4        CD3D      CD163      CD33\n",
      "5        CD3E        CD4       CD4\n",
      "6        CD3G       CD53      CD53\n",
      "7         CD5       CD84      CD68\n",
      "8        CD53       CD86      CD86\n",
      "9        CD96     CLEC7A     CSF1R\n",
      "10      CXCR3      CSF1R     DOCK2\n",
      "11      CXCR6       CYBB     DOCK8\n",
      "12      DOCK2      CYTH4    FCER1G\n",
      "13      EVI2B     DOCK10    FCGR3A\n",
      "14        FYB      DOCK2    FERMT3\n",
      "15       GZMA       FPR3       HCK\n",
      "16       GZMM     HAVCR2     IKZF1\n",
      "17      IKZF1        HCK     ITGB2\n",
      "18      IL2RG      HCLS1     LAIR1\n",
      "19        ITK      IKZF1    LAPTM5\n",
      "20       LCP2     IL10RA     MYO1F\n",
      "21        LY9      ITGAL      NCF4\n",
      "22    NCKAP1L      ITGB2   NCKAP1L\n",
      "23       PLEK        ITK     PLCG2\n",
      "24       PRF1      KLHL6     SASH3\n",
      "25      PRKCB      LAIR1      SPI1\n",
      "26      PTPRC     LAPTM5    STXBP2\n",
      "27    PTPRCAP     LILRB1       SYK\n",
      "28     PYHIN1     LILRB4    TYROBP\n",
      "29      S1PR4     LRRC25     VAMP8\n",
      "30     SH2D1A     MAP4K1      VAV1\n",
      "31      SIRPG       MNDA  ARHGAP30\n",
      "32       SIT1      MYO1G       NaN\n",
      "33       SLA2    NCKAP1L       NaN\n",
      "34     SLAMF1     PIK3R5       NaN\n",
      "35     SLAMF6      PTPRC       NaN\n",
      "36        SPN     RASAL3       NaN\n",
      "37   TBC1D10C      SASH3       NaN\n",
      "38      TBX21    SIGLEC7       NaN\n",
      "39     THEMIS    SIGLEC9       NaN\n",
      "40      TRAT1     SIRPB2       NaN\n",
      "41    UBASH3A        SLA       NaN\n",
      "42      ZAP70     SLAMF8       NaN\n",
      "43     ZNF831       SPI1       NaN\n",
      "44        NaN   TBC1D10C       NaN\n",
      "45        NaN   TRAF3IP3       NaN\n",
      "46        NaN        WAS       NaN\n",
      "47        NaN    APBB1IP       NaN\n"
     ]
    }
   ],
   "source": [
    "print(df1)"
   ]
  },
  {
   "cell_type": "code",
   "execution_count": null,
   "metadata": {},
   "outputs": [],
   "source": []
  }
 ],
 "metadata": {
  "kernelspec": {
   "display_name": "Python 3",
   "language": "python",
   "name": "python3"
  },
  "language_info": {
   "codemirror_mode": {
    "name": "ipython",
    "version": 3
   },
   "file_extension": ".py",
   "mimetype": "text/x-python",
   "name": "python",
   "nbconvert_exporter": "python",
   "pygments_lexer": "ipython3",
   "version": "3.6.8"
  }
 },
 "nbformat": 4,
 "nbformat_minor": 2
}
